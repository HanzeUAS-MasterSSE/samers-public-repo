{
 "cells": [
  {
   "cell_type": "code",
   "execution_count": 14,
   "id": "c5ffdfec",
   "metadata": {},
   "outputs": [
    {
     "name": "stdout",
     "output_type": "stream",
     "text": [
      "Hello Weeeld!\n"
     ]
    }
   ],
   "source": [
    "print (\"Hello Weeeld!\")"
   ]
  },
  {
   "cell_type": "code",
   "execution_count": 15,
   "id": "d3782d45",
   "metadata": {},
   "outputs": [
    {
     "name": "stdout",
     "output_type": "stream",
     "text": [
      "Hello hfg!\n"
     ]
    }
   ],
   "source": [
    "print (\"Hello hfg!\")"
   ]
  },
  {
   "cell_type": "code",
   "execution_count": 16,
   "id": "85eb4c6d",
   "metadata": {},
   "outputs": [
    {
     "data": {
      "text/plain": [
       "'Hello World!'"
      ]
     },
     "execution_count": 16,
     "metadata": {},
     "output_type": "execute_result"
    }
   ],
   "source": [
    "\"Hello World!\""
   ]
  },
  {
   "cell_type": "code",
   "execution_count": 17,
   "id": "2aaf78e5",
   "metadata": {},
   "outputs": [
    {
     "data": {
      "text/plain": [
       "3"
      ]
     },
     "execution_count": 17,
     "metadata": {},
     "output_type": "execute_result"
    }
   ],
   "source": [
    "1+2"
   ]
  },
  {
   "cell_type": "code",
   "execution_count": 18,
   "id": "40a8756e",
   "metadata": {},
   "outputs": [],
   "source": [
    "name = \"Samer\""
   ]
  },
  {
   "cell_type": "code",
   "execution_count": 19,
   "id": "9509274a",
   "metadata": {},
   "outputs": [
    {
     "data": {
      "text/plain": [
       "'Samer'"
      ]
     },
     "execution_count": 19,
     "metadata": {},
     "output_type": "execute_result"
    }
   ],
   "source": [
    "name"
   ]
  },
  {
   "cell_type": "code",
   "execution_count": 20,
   "id": "b599ba8a",
   "metadata": {},
   "outputs": [],
   "source": [
    "name = \"Ahmed\""
   ]
  },
  {
   "cell_type": "markdown",
   "id": "88fb4d79",
   "metadata": {},
   "source": [
    "A First Level Header\n",
    "====================\n",
    "\n",
    "# Header\n",
    "## Header\n",
    "### Header\n",
    "*italics* _italics_\n",
    "**bold**\n",
    "\n",
    "* list 1\n",
    "* list 2\n",
    "\n",
    "1. list 1\n",
    "2. list 2\n",
    "\n",
    "Line 1\n",
    "Line 2\n",
    "\n",
    "A Second Level Header\n",
    "---------------------\n",
    "\n",
    "Now is the time for all good men to come to\n",
    "the aid of their country. This is just a\n",
    "regular paragraph.\n",
    "\n",
    "The quick brown fox jumped over the lazy\n",
    "dog's back.\n",
    "\n",
    "### Header 3\n",
    "\n",
    "> This is a blockquote.\n",
    "> \n",
    "> This is the second paragraph in the blockquote.\n",
    ">\n",
    "> ## This is an H2 in a blockquote"
   ]
  },
  {
   "cell_type": "code",
   "execution_count": null,
   "id": "9c2fab8b",
   "metadata": {},
   "outputs": [],
   "source": [
    "!pip list"
   ]
  },
  {
   "cell_type": "code",
   "execution_count": 23,
   "id": "972cfbd6",
   "metadata": {},
   "outputs": [
    {
     "data": {
      "application/json": {
       "cell": {
        "!": "OSMagics",
        "HTML": "Other",
        "SVG": "Other",
        "bash": "Other",
        "capture": "ExecutionMagics",
        "debug": "ExecutionMagics",
        "file": "Other",
        "html": "DisplayMagics",
        "javascript": "DisplayMagics",
        "js": "DisplayMagics",
        "latex": "DisplayMagics",
        "markdown": "DisplayMagics",
        "perl": "Other",
        "prun": "ExecutionMagics",
        "pypy": "Other",
        "python": "Other",
        "python2": "Other",
        "python3": "Other",
        "ruby": "Other",
        "script": "ScriptMagics",
        "sh": "Other",
        "svg": "DisplayMagics",
        "sx": "OSMagics",
        "system": "OSMagics",
        "time": "ExecutionMagics",
        "timeit": "ExecutionMagics",
        "writefile": "OSMagics"
       },
       "line": {
        "alias": "OSMagics",
        "alias_magic": "BasicMagics",
        "autoawait": "AsyncMagics",
        "autocall": "AutoMagics",
        "automagic": "AutoMagics",
        "autosave": "KernelMagics",
        "bookmark": "OSMagics",
        "cat": "Other",
        "cd": "OSMagics",
        "clear": "KernelMagics",
        "colors": "BasicMagics",
        "conda": "PackagingMagics",
        "config": "ConfigMagics",
        "connect_info": "KernelMagics",
        "cp": "Other",
        "debug": "ExecutionMagics",
        "dhist": "OSMagics",
        "dirs": "OSMagics",
        "doctest_mode": "BasicMagics",
        "ed": "Other",
        "edit": "KernelMagics",
        "env": "OSMagics",
        "gui": "BasicMagics",
        "hist": "Other",
        "history": "HistoryMagics",
        "killbgscripts": "ScriptMagics",
        "ldir": "Other",
        "less": "KernelMagics",
        "lf": "Other",
        "lk": "Other",
        "ll": "Other",
        "load": "CodeMagics",
        "load_ext": "ExtensionMagics",
        "loadpy": "CodeMagics",
        "logoff": "LoggingMagics",
        "logon": "LoggingMagics",
        "logstart": "LoggingMagics",
        "logstate": "LoggingMagics",
        "logstop": "LoggingMagics",
        "ls": "Other",
        "lsmagic": "BasicMagics",
        "lx": "Other",
        "macro": "ExecutionMagics",
        "magic": "BasicMagics",
        "man": "KernelMagics",
        "matplotlib": "PylabMagics",
        "mkdir": "Other",
        "more": "KernelMagics",
        "mv": "Other",
        "notebook": "BasicMagics",
        "page": "BasicMagics",
        "pastebin": "CodeMagics",
        "pdb": "ExecutionMagics",
        "pdef": "NamespaceMagics",
        "pdoc": "NamespaceMagics",
        "pfile": "NamespaceMagics",
        "pinfo": "NamespaceMagics",
        "pinfo2": "NamespaceMagics",
        "pip": "PackagingMagics",
        "popd": "OSMagics",
        "pprint": "BasicMagics",
        "precision": "BasicMagics",
        "prun": "ExecutionMagics",
        "psearch": "NamespaceMagics",
        "psource": "NamespaceMagics",
        "pushd": "OSMagics",
        "pwd": "OSMagics",
        "pycat": "OSMagics",
        "pylab": "PylabMagics",
        "qtconsole": "KernelMagics",
        "quickref": "BasicMagics",
        "recall": "HistoryMagics",
        "rehashx": "OSMagics",
        "reload_ext": "ExtensionMagics",
        "rep": "Other",
        "rerun": "HistoryMagics",
        "reset": "NamespaceMagics",
        "reset_selective": "NamespaceMagics",
        "rm": "Other",
        "rmdir": "Other",
        "run": "ExecutionMagics",
        "save": "CodeMagics",
        "sc": "OSMagics",
        "set_env": "OSMagics",
        "store": "StoreMagics",
        "sx": "OSMagics",
        "system": "OSMagics",
        "tb": "ExecutionMagics",
        "time": "ExecutionMagics",
        "timeit": "ExecutionMagics",
        "unalias": "OSMagics",
        "unload_ext": "ExtensionMagics",
        "who": "NamespaceMagics",
        "who_ls": "NamespaceMagics",
        "whos": "NamespaceMagics",
        "xdel": "NamespaceMagics",
        "xmode": "BasicMagics"
       }
      },
      "text/plain": [
       "Available line magics:\n",
       "%alias  %alias_magic  %autoawait  %autocall  %automagic  %autosave  %bookmark  %cat  %cd  %clear  %colors  %conda  %config  %connect_info  %cp  %debug  %dhist  %dirs  %doctest_mode  %ed  %edit  %env  %gui  %hist  %history  %killbgscripts  %ldir  %less  %lf  %lk  %ll  %load  %load_ext  %loadpy  %logoff  %logon  %logstart  %logstate  %logstop  %ls  %lsmagic  %lx  %macro  %magic  %man  %matplotlib  %mkdir  %more  %mv  %notebook  %page  %pastebin  %pdb  %pdef  %pdoc  %pfile  %pinfo  %pinfo2  %pip  %popd  %pprint  %precision  %prun  %psearch  %psource  %pushd  %pwd  %pycat  %pylab  %qtconsole  %quickref  %recall  %rehashx  %reload_ext  %rep  %rerun  %reset  %reset_selective  %rm  %rmdir  %run  %save  %sc  %set_env  %store  %sx  %system  %tb  %time  %timeit  %unalias  %unload_ext  %who  %who_ls  %whos  %xdel  %xmode\n",
       "\n",
       "Available cell magics:\n",
       "%%!  %%HTML  %%SVG  %%bash  %%capture  %%debug  %%file  %%html  %%javascript  %%js  %%latex  %%markdown  %%perl  %%prun  %%pypy  %%python  %%python2  %%python3  %%ruby  %%script  %%sh  %%svg  %%sx  %%system  %%time  %%timeit  %%writefile\n",
       "\n",
       "Automagic is ON, % prefix IS NOT needed for line magics."
      ]
     },
     "execution_count": 23,
     "metadata": {},
     "output_type": "execute_result"
    }
   ],
   "source": [
    "%lsmagic"
   ]
  },
  {
   "cell_type": "code",
   "execution_count": 24,
   "id": "cf52a367",
   "metadata": {},
   "outputs": [
    {
     "name": "stdout",
     "output_type": "stream",
     "text": [
      "Juypter_Demo.ipynb   \u001b[1m\u001b[36mgit-demo-test\u001b[m\u001b[m/\r\n",
      "\u001b[1m\u001b[36mcloned-repo-example\u001b[m\u001b[m/ \u001b[1m\u001b[36mlocal-repo-example\u001b[m\u001b[m/\r\n"
     ]
    }
   ],
   "source": [
    "%ls"
   ]
  },
  {
   "cell_type": "code",
   "execution_count": 25,
   "id": "010550c7",
   "metadata": {},
   "outputs": [
    {
     "data": {
      "text/plain": [
       "'/Users/samer/Documents/Hanze Content/CVIP 2022/Version Control'"
      ]
     },
     "execution_count": 25,
     "metadata": {},
     "output_type": "execute_result"
    }
   ],
   "source": [
    "%pwd"
   ]
  },
  {
   "cell_type": "code",
   "execution_count": 26,
   "id": "f588f38f",
   "metadata": {},
   "outputs": [
    {
     "name": "stdout",
     "output_type": "stream",
     "text": [
      "total 56\r\n",
      "drwxr-xr-x@  8 samer  staff    256 Apr 26 11:45 \u001b[1m\u001b[36m.\u001b[m\u001b[m/\r\n",
      "drwxr-xr-x@ 14 samer  staff    448 Apr 26 11:45 \u001b[1m\u001b[36m..\u001b[m\u001b[m/\r\n",
      "-rw-r--r--@  1 samer  staff  12292 Apr 26 11:21 .DS_Store\r\n",
      "drwxr-xr-x@  3 samer  staff     96 Apr 26 11:21 \u001b[1m\u001b[36m.ipynb_checkpoints\u001b[m\u001b[m/\r\n",
      "-rw-r--r--   1 samer  staff   9537 Apr 26 11:45 Juypter_Demo.ipynb\r\n",
      "drwxr-xr-x@  4 samer  staff    128 Apr 26 11:17 \u001b[1m\u001b[36mcloned-repo-example\u001b[m\u001b[m/\r\n",
      "drwxr-xr-x@  7 samer  staff    224 Apr 25 22:41 \u001b[1m\u001b[36mgit-demo-test\u001b[m\u001b[m/\r\n",
      "drwxr-xr-x@ 11 samer  staff    352 Apr 26 10:02 \u001b[1m\u001b[36mlocal-repo-example\u001b[m\u001b[m/\r\n"
     ]
    }
   ],
   "source": [
    "%ls -la"
   ]
  },
  {
   "cell_type": "code",
   "execution_count": 28,
   "id": "8819d6fc",
   "metadata": {},
   "outputs": [],
   "source": [
    "!conda act"
   ]
  },
  {
   "cell_type": "code",
   "execution_count": 29,
   "id": "df669c03",
   "metadata": {},
   "outputs": [],
   "source": [
    "import numpy as np\n",
    "import matplotlib.pyplot as plt\n",
    "\n",
    "# Fixing random state for reproducibility\n",
    "np.random.seed(19680801)\n",
    "\n",
    "\n",
    "N = 50\n",
    "x = np.random.rand(N)\n",
    "y = np.random.rand(N)\n",
    "colors = np.random.rand(N)\n",
    "area = (30 * np.random.rand(N))**2  # 0 to 15 point radii\n",
    "\n",
    "plt.scatter(x, y, s=area, c=colors, alpha=0.5)\n",
    "plt.show()"
   ]
  },
  {
   "cell_type": "code",
   "execution_count": 30,
   "id": "4f9f68d7",
   "metadata": {},
   "outputs": [
    {
     "data": {
      "text/html": [
       "<iframe width=\"560\" height=\"315\" src=\"https://www.youtube.com/embed/Hk011WMM7t0\" title=\"YouTube video player\" frameborder=\"0\" allow=\"accelerometer; autoplay; clipboard-write; encrypted-media; gyroscope; picture-in-picture\" allowfullscreen>\n",
       "</iframe>\n"
      ],
      "text/plain": [
       "<IPython.core.display.HTML object>"
      ]
     },
     "metadata": {},
     "output_type": "display_data"
    }
   ],
   "source": [
    "%%HTML\n",
    "<iframe width=\"560\" height=\"315\" src=\"https://www.youtube.com/embed/Hk011WMM7t0\" title=\"YouTube video player\" frameborder=\"0\" allow=\"accelerometer; autoplay; clipboard-write; encrypted-media; gyroscope; picture-in-picture\" allowfullscreen>\n",
    "</iframe>"
   ]
  },
  {
   "cell_type": "code",
   "execution_count": 31,
   "id": "5aa7c43b",
   "metadata": {},
   "outputs": [
    {
     "data": {
      "text/markdown": [
       "# Header\n"
      ],
      "text/plain": [
       "<IPython.core.display.Markdown object>"
      ]
     },
     "metadata": {},
     "output_type": "display_data"
    }
   ],
   "source": [
    "%%markdown\n",
    "# Header"
   ]
  },
  {
   "cell_type": "code",
   "execution_count": 33,
   "id": "fd13982a",
   "metadata": {},
   "outputs": [
    {
     "name": "stdout",
     "output_type": "stream",
     "text": [
      "502 µs ± 968 ns per loop (mean ± std. dev. of 7 runs, 1000 loops each)\n"
     ]
    }
   ],
   "source": [
    "%%timeit\n",
    "squares = [n*n for n in range(0,10000)]"
   ]
  },
  {
   "cell_type": "code",
   "execution_count": 34,
   "id": "1c241590",
   "metadata": {},
   "outputs": [],
   "source": [
    "import pandas as pd\n",
    "import numpy as np"
   ]
  },
  {
   "cell_type": "code",
   "execution_count": 37,
   "id": "ca16451f",
   "metadata": {},
   "outputs": [],
   "source": [
    "df = pd.DataFrame(np.random.randn(10,5))"
   ]
  },
  {
   "cell_type": "code",
   "execution_count": 38,
   "id": "eccee201",
   "metadata": {},
   "outputs": [
    {
     "data": {
      "text/html": [
       "<div>\n",
       "<style scoped>\n",
       "    .dataframe tbody tr th:only-of-type {\n",
       "        vertical-align: middle;\n",
       "    }\n",
       "\n",
       "    .dataframe tbody tr th {\n",
       "        vertical-align: top;\n",
       "    }\n",
       "\n",
       "    .dataframe thead th {\n",
       "        text-align: right;\n",
       "    }\n",
       "</style>\n",
       "<table border=\"1\" class=\"dataframe\">\n",
       "  <thead>\n",
       "    <tr style=\"text-align: right;\">\n",
       "      <th></th>\n",
       "      <th>0</th>\n",
       "      <th>1</th>\n",
       "      <th>2</th>\n",
       "      <th>3</th>\n",
       "      <th>4</th>\n",
       "    </tr>\n",
       "  </thead>\n",
       "  <tbody>\n",
       "    <tr>\n",
       "      <th>0</th>\n",
       "      <td>0.835275</td>\n",
       "      <td>0.181993</td>\n",
       "      <td>1.232291</td>\n",
       "      <td>-0.996842</td>\n",
       "      <td>-0.804238</td>\n",
       "    </tr>\n",
       "    <tr>\n",
       "      <th>1</th>\n",
       "      <td>1.833230</td>\n",
       "      <td>0.084046</td>\n",
       "      <td>-0.466226</td>\n",
       "      <td>-0.458791</td>\n",
       "      <td>-0.623695</td>\n",
       "    </tr>\n",
       "    <tr>\n",
       "      <th>2</th>\n",
       "      <td>0.645133</td>\n",
       "      <td>-1.851581</td>\n",
       "      <td>0.843342</td>\n",
       "      <td>1.093867</td>\n",
       "      <td>0.456576</td>\n",
       "    </tr>\n",
       "    <tr>\n",
       "      <th>3</th>\n",
       "      <td>0.273131</td>\n",
       "      <td>-1.916821</td>\n",
       "      <td>0.162999</td>\n",
       "      <td>0.920437</td>\n",
       "      <td>-0.667275</td>\n",
       "    </tr>\n",
       "    <tr>\n",
       "      <th>4</th>\n",
       "      <td>-0.046662</td>\n",
       "      <td>-0.613771</td>\n",
       "      <td>-0.374934</td>\n",
       "      <td>0.516941</td>\n",
       "      <td>0.538914</td>\n",
       "    </tr>\n",
       "    <tr>\n",
       "      <th>5</th>\n",
       "      <td>0.001525</td>\n",
       "      <td>-0.107786</td>\n",
       "      <td>0.690347</td>\n",
       "      <td>1.480780</td>\n",
       "      <td>0.905456</td>\n",
       "    </tr>\n",
       "    <tr>\n",
       "      <th>6</th>\n",
       "      <td>1.630140</td>\n",
       "      <td>0.053020</td>\n",
       "      <td>-1.677867</td>\n",
       "      <td>-0.306046</td>\n",
       "      <td>-0.161531</td>\n",
       "    </tr>\n",
       "    <tr>\n",
       "      <th>7</th>\n",
       "      <td>1.127484</td>\n",
       "      <td>-0.027809</td>\n",
       "      <td>0.029011</td>\n",
       "      <td>-0.838883</td>\n",
       "      <td>-0.997609</td>\n",
       "    </tr>\n",
       "    <tr>\n",
       "      <th>8</th>\n",
       "      <td>0.196853</td>\n",
       "      <td>-1.567023</td>\n",
       "      <td>0.076813</td>\n",
       "      <td>0.229494</td>\n",
       "      <td>1.164473</td>\n",
       "    </tr>\n",
       "    <tr>\n",
       "      <th>9</th>\n",
       "      <td>0.013561</td>\n",
       "      <td>-1.131700</td>\n",
       "      <td>-0.698520</td>\n",
       "      <td>-1.283327</td>\n",
       "      <td>-1.034352</td>\n",
       "    </tr>\n",
       "  </tbody>\n",
       "</table>\n",
       "</div>"
      ],
      "text/plain": [
       "          0         1         2         3         4\n",
       "0  0.835275  0.181993  1.232291 -0.996842 -0.804238\n",
       "1  1.833230  0.084046 -0.466226 -0.458791 -0.623695\n",
       "2  0.645133 -1.851581  0.843342  1.093867  0.456576\n",
       "3  0.273131 -1.916821  0.162999  0.920437 -0.667275\n",
       "4 -0.046662 -0.613771 -0.374934  0.516941  0.538914\n",
       "5  0.001525 -0.107786  0.690347  1.480780  0.905456\n",
       "6  1.630140  0.053020 -1.677867 -0.306046 -0.161531\n",
       "7  1.127484 -0.027809  0.029011 -0.838883 -0.997609\n",
       "8  0.196853 -1.567023  0.076813  0.229494  1.164473\n",
       "9  0.013561 -1.131700 -0.698520 -1.283327 -1.034352"
      ]
     },
     "execution_count": 38,
     "metadata": {},
     "output_type": "execute_result"
    }
   ],
   "source": [
    "df"
   ]
  },
  {
   "cell_type": "code",
   "execution_count": 39,
   "id": "65ffb72a",
   "metadata": {},
   "outputs": [
    {
     "data": {
      "text/html": [
       "<div>\n",
       "<style scoped>\n",
       "    .dataframe tbody tr th:only-of-type {\n",
       "        vertical-align: middle;\n",
       "    }\n",
       "\n",
       "    .dataframe tbody tr th {\n",
       "        vertical-align: top;\n",
       "    }\n",
       "\n",
       "    .dataframe thead th {\n",
       "        text-align: right;\n",
       "    }\n",
       "</style>\n",
       "<table border=\"1\" class=\"dataframe\">\n",
       "  <thead>\n",
       "    <tr style=\"text-align: right;\">\n",
       "      <th></th>\n",
       "      <th>0</th>\n",
       "      <th>1</th>\n",
       "      <th>2</th>\n",
       "      <th>3</th>\n",
       "      <th>4</th>\n",
       "    </tr>\n",
       "  </thead>\n",
       "  <tbody>\n",
       "    <tr>\n",
       "      <th>0</th>\n",
       "      <td>0.835275</td>\n",
       "      <td>0.181993</td>\n",
       "      <td>1.232291</td>\n",
       "      <td>-0.996842</td>\n",
       "      <td>-0.804238</td>\n",
       "    </tr>\n",
       "    <tr>\n",
       "      <th>1</th>\n",
       "      <td>1.833230</td>\n",
       "      <td>0.084046</td>\n",
       "      <td>-0.466226</td>\n",
       "      <td>-0.458791</td>\n",
       "      <td>-0.623695</td>\n",
       "    </tr>\n",
       "    <tr>\n",
       "      <th>2</th>\n",
       "      <td>0.645133</td>\n",
       "      <td>-1.851581</td>\n",
       "      <td>0.843342</td>\n",
       "      <td>1.093867</td>\n",
       "      <td>0.456576</td>\n",
       "    </tr>\n",
       "    <tr>\n",
       "      <th>3</th>\n",
       "      <td>0.273131</td>\n",
       "      <td>-1.916821</td>\n",
       "      <td>0.162999</td>\n",
       "      <td>0.920437</td>\n",
       "      <td>-0.667275</td>\n",
       "    </tr>\n",
       "    <tr>\n",
       "      <th>4</th>\n",
       "      <td>-0.046662</td>\n",
       "      <td>-0.613771</td>\n",
       "      <td>-0.374934</td>\n",
       "      <td>0.516941</td>\n",
       "      <td>0.538914</td>\n",
       "    </tr>\n",
       "  </tbody>\n",
       "</table>\n",
       "</div>"
      ],
      "text/plain": [
       "          0         1         2         3         4\n",
       "0  0.835275  0.181993  1.232291 -0.996842 -0.804238\n",
       "1  1.833230  0.084046 -0.466226 -0.458791 -0.623695\n",
       "2  0.645133 -1.851581  0.843342  1.093867  0.456576\n",
       "3  0.273131 -1.916821  0.162999  0.920437 -0.667275\n",
       "4 -0.046662 -0.613771 -0.374934  0.516941  0.538914"
      ]
     },
     "execution_count": 39,
     "metadata": {},
     "output_type": "execute_result"
    }
   ],
   "source": [
    "df.head()"
   ]
  },
  {
   "cell_type": "code",
   "execution_count": 40,
   "id": "12822b7e",
   "metadata": {},
   "outputs": [
    {
     "data": {
      "text/html": [
       "<div>\n",
       "<style scoped>\n",
       "    .dataframe tbody tr th:only-of-type {\n",
       "        vertical-align: middle;\n",
       "    }\n",
       "\n",
       "    .dataframe tbody tr th {\n",
       "        vertical-align: top;\n",
       "    }\n",
       "\n",
       "    .dataframe thead th {\n",
       "        text-align: right;\n",
       "    }\n",
       "</style>\n",
       "<table border=\"1\" class=\"dataframe\">\n",
       "  <thead>\n",
       "    <tr style=\"text-align: right;\">\n",
       "      <th></th>\n",
       "      <th>0</th>\n",
       "      <th>1</th>\n",
       "      <th>2</th>\n",
       "      <th>3</th>\n",
       "      <th>4</th>\n",
       "    </tr>\n",
       "  </thead>\n",
       "  <tbody>\n",
       "    <tr>\n",
       "      <th>0</th>\n",
       "      <td>0.835275</td>\n",
       "      <td>0.181993</td>\n",
       "      <td>1.232291</td>\n",
       "      <td>-0.996842</td>\n",
       "      <td>-0.804238</td>\n",
       "    </tr>\n",
       "    <tr>\n",
       "      <th>1</th>\n",
       "      <td>1.833230</td>\n",
       "      <td>0.084046</td>\n",
       "      <td>-0.466226</td>\n",
       "      <td>-0.458791</td>\n",
       "      <td>-0.623695</td>\n",
       "    </tr>\n",
       "    <tr>\n",
       "      <th>2</th>\n",
       "      <td>0.645133</td>\n",
       "      <td>-1.851581</td>\n",
       "      <td>0.843342</td>\n",
       "      <td>1.093867</td>\n",
       "      <td>0.456576</td>\n",
       "    </tr>\n",
       "    <tr>\n",
       "      <th>3</th>\n",
       "      <td>0.273131</td>\n",
       "      <td>-1.916821</td>\n",
       "      <td>0.162999</td>\n",
       "      <td>0.920437</td>\n",
       "      <td>-0.667275</td>\n",
       "    </tr>\n",
       "    <tr>\n",
       "      <th>4</th>\n",
       "      <td>-0.046662</td>\n",
       "      <td>-0.613771</td>\n",
       "      <td>-0.374934</td>\n",
       "      <td>0.516941</td>\n",
       "      <td>0.538914</td>\n",
       "    </tr>\n",
       "    <tr>\n",
       "      <th>5</th>\n",
       "      <td>0.001525</td>\n",
       "      <td>-0.107786</td>\n",
       "      <td>0.690347</td>\n",
       "      <td>1.480780</td>\n",
       "      <td>0.905456</td>\n",
       "    </tr>\n",
       "    <tr>\n",
       "      <th>6</th>\n",
       "      <td>1.630140</td>\n",
       "      <td>0.053020</td>\n",
       "      <td>-1.677867</td>\n",
       "      <td>-0.306046</td>\n",
       "      <td>-0.161531</td>\n",
       "    </tr>\n",
       "  </tbody>\n",
       "</table>\n",
       "</div>"
      ],
      "text/plain": [
       "          0         1         2         3         4\n",
       "0  0.835275  0.181993  1.232291 -0.996842 -0.804238\n",
       "1  1.833230  0.084046 -0.466226 -0.458791 -0.623695\n",
       "2  0.645133 -1.851581  0.843342  1.093867  0.456576\n",
       "3  0.273131 -1.916821  0.162999  0.920437 -0.667275\n",
       "4 -0.046662 -0.613771 -0.374934  0.516941  0.538914\n",
       "5  0.001525 -0.107786  0.690347  1.480780  0.905456\n",
       "6  1.630140  0.053020 -1.677867 -0.306046 -0.161531"
      ]
     },
     "execution_count": 40,
     "metadata": {},
     "output_type": "execute_result"
    }
   ],
   "source": [
    "df.head(7)"
   ]
  },
  {
   "cell_type": "code",
   "execution_count": null,
   "id": "07623bf0",
   "metadata": {},
   "outputs": [],
   "source": []
  }
 ],
 "metadata": {
  "kernelspec": {
   "display_name": "Python 3",
   "language": "python",
   "name": "python3"
  },
  "language_info": {
   "codemirror_mode": {
    "name": "ipython",
    "version": 3
   },
   "file_extension": ".py",
   "mimetype": "text/x-python",
   "name": "python",
   "nbconvert_exporter": "python",
   "pygments_lexer": "ipython3",
   "version": "3.8.8"
  }
 },
 "nbformat": 4,
 "nbformat_minor": 5
}
