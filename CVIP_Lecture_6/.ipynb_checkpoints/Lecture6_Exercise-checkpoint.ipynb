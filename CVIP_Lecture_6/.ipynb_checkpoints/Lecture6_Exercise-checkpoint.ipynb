{
 "cells": [
  {
   "cell_type": "markdown",
   "id": "e74b1d24",
   "metadata": {},
   "source": [
    "# The Fantabulous Psychic\n",
    "Growing up in the streets of Wherevia, you've come to realise how naive human beings can be.\n",
    "\n",
    "In older to part fools from their hard-earned wealth, you've positioned yourself as a psychic and purveyor of the mystique arts. Naturally, people are sceptical. \n",
    "\n",
    "The people of this land are a bit weird...I mean, they gladly shell out tons of cash for portions and four-leafed clovers from that fake magician guy from Unbelievablia, but when a local is trying to con them, they all of a sudden take pause 🤦🏽‍♂️\n",
    "\n",
    "What gives!?\n",
    "\n",
    "![psychic baby](psychic_baby.jpeg)\n",
    "\n",
    "In order to prove yourself, you've come up with a trick is bound to work every time: \n",
    "\n",
    "You close your eyes, turn around, and then ask them to hold up any number of fingers, on one hand or both (doesn't matter), and you can \"see from insider their minds\" which fingers they're holding up.\n",
    "\n",
    "It's a simple gimick, but these are simple times, ~and they're simple people~ so they probably won't ask for more. \n",
    "\n",
    "If they do, then you'll just come up with some additional tricks, and gain even more credibility 😉\n",
    "\n",
    "After that, you just sell them a bunch of phew...and before you know it, you'll be rich! 🤑\n",
    "\n",
    "\n",
    "Now, the hard part. \n",
    "\n",
    "In order to achieve this trick, you've installed a mini-camera (with a capable embedded processor) at the back of your turban. This will look directly at them when your back is turned, and see their hands. A wireless microphone is positioned in your ear telling you how many fingers they held up (and if you're feeling very connected 😝, precisely which ones).\n",
    "\n",
    "The algorithm for detecting the fingers and relaying the information is the only thing that's missing. Can you solve this tiny obstacle on your way to richhood?\n",
    "\n",
    "\n",
    "PS: You can [use the gTTS library](https://towardsdatascience.com/easy-text-to-speech-with-python-bfb34250036e) to read the text out loud"
   ]
  },
  {
   "cell_type": "code",
   "execution_count": null,
   "id": "0733db2f",
   "metadata": {},
   "outputs": [],
   "source": []
  }
 ],
 "metadata": {
  "kernelspec": {
   "display_name": "CVIP2022",
   "language": "python",
   "name": "cvip2022"
  },
  "language_info": {
   "codemirror_mode": {
    "name": "ipython",
    "version": 3
   },
   "file_extension": ".py",
   "mimetype": "text/x-python",
   "name": "python",
   "nbconvert_exporter": "python",
   "pygments_lexer": "ipython3",
   "version": "3.8.12"
  }
 },
 "nbformat": 4,
 "nbformat_minor": 5
}
