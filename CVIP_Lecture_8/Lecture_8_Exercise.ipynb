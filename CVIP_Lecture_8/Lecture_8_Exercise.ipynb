{
 "cells": [
  {
   "cell_type": "markdown",
   "id": "aa6a9add",
   "metadata": {},
   "source": [
    "# The Fantabulous Psychic (Part 2)\n",
    "Growing up in the streets of Wherevia, you came to realise how naive human beings can be.\n",
    "\n",
    "In older to part fools from their hard-earned wealth, you positioned yourself as a psychic and purveyor of the mystique arts. Naturally, people are sceptical.\n",
    "\n",
    "This led you to develop your first trick: counting fingers when facing the other way.\n",
    "\n",
    "Naturally, the people were impressed, and business has been booming.\n",
    "\n",
    "But people are bored, and they want to see a new manifestation of your powers. Not to be cowered by their demands, you've decided to step it up.\n",
    "\n",
    "No longer will you tell people only what fingers they're holding up...no,sir...for that is now amateur. You will amaze them with talents never seen before... by telling them what card they have just played from their hand, or which one they just unveiled from the deck...and once again...with your eyes blindfolded!\n",
    "\n",
    "To achieve this, you've come up with your own custom cards that are much easier for your ~vision algorithms to find features of~ spirits to read.\n",
    "\n",
    "Now all you have to do is write the algorithm to find the top card, and read out to you the number/letter that's on it. You get bonus amazement points if you can tell them which shape & color it is as well."
   ]
  },
  {
   "cell_type": "code",
   "execution_count": null,
   "id": "e102b1f0",
   "metadata": {},
   "outputs": [],
   "source": []
  }
 ],
 "metadata": {
  "kernelspec": {
   "display_name": "CVIP2022",
   "language": "python",
   "name": "cvip2022"
  },
  "language_info": {
   "codemirror_mode": {
    "name": "ipython",
    "version": 3
   },
   "file_extension": ".py",
   "mimetype": "text/x-python",
   "name": "python",
   "nbconvert_exporter": "python",
   "pygments_lexer": "ipython3",
   "version": "3.8.12"
  }
 },
 "nbformat": 4,
 "nbformat_minor": 5
}
